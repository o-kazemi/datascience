{
 "cells": [
  {
   "cell_type": "markdown",
   "id": "dd0df3ca",
   "metadata": {},
   "source": [
    "<h1>Lists<h1>"
   ]
  },
  {
   "cell_type": "markdown",
   "id": "c935b62f",
   "metadata": {},
   "source": [
    "<h2>Lists are mutable<h2>"
   ]
  },
  {
   "cell_type": "code",
   "execution_count": 34,
   "id": "d35e565c",
   "metadata": {},
   "outputs": [],
   "source": [
    "Countries=['Iran','Japan','USA','Canada']"
   ]
  },
  {
   "cell_type": "code",
   "execution_count": 35,
   "id": "7993a5d7",
   "metadata": {},
   "outputs": [],
   "source": [
    "Countries.append('Turkey')"
   ]
  },
  {
   "cell_type": "code",
   "execution_count": 36,
   "id": "e590bb93",
   "metadata": {},
   "outputs": [
    {
     "name": "stdout",
     "output_type": "stream",
     "text": [
      "['Iran', 'Japan', 'USA', 'Canada', 'Turkey']\n"
     ]
    }
   ],
   "source": [
    "print(Countries)"
   ]
  },
  {
   "cell_type": "code",
   "execution_count": 37,
   "id": "2c63aefa",
   "metadata": {},
   "outputs": [
    {
     "name": "stdout",
     "output_type": "stream",
     "text": [
      "Iran\n"
     ]
    }
   ],
   "source": [
    "print(Countries[0])"
   ]
  },
  {
   "cell_type": "markdown",
   "id": "3a80752e",
   "metadata": {},
   "source": [
    "<h2>Combining the Lists<h2>"
   ]
  },
  {
   "cell_type": "code",
   "execution_count": 38,
   "id": "0022c8a7",
   "metadata": {},
   "outputs": [],
   "source": [
    "cities=['Tehran','Tokyo','DC','Ottawa','Ankara']"
   ]
  },
  {
   "cell_type": "code",
   "execution_count": 39,
   "id": "46a92388",
   "metadata": {},
   "outputs": [],
   "source": [
    "Countries_info=Countries+cities"
   ]
  },
  {
   "cell_type": "code",
   "execution_count": 40,
   "id": "4a0036cd",
   "metadata": {},
   "outputs": [
    {
     "name": "stdout",
     "output_type": "stream",
     "text": [
      "['Iran', 'Japan', 'USA', 'Canada', 'Turkey', 'Tehran', 'Tokyo', 'DC', 'Ottawa', 'Ankara']\n"
     ]
    }
   ],
   "source": [
    "print(Countries_info)"
   ]
  },
  {
   "cell_type": "code",
   "execution_count": 41,
   "id": "7b4f2b5e",
   "metadata": {},
   "outputs": [],
   "source": [
    "new_Countries_info=Countries.extend(cities)"
   ]
  },
  {
   "cell_type": "code",
   "execution_count": 42,
   "id": "46c36dd2",
   "metadata": {},
   "outputs": [
    {
     "name": "stdout",
     "output_type": "stream",
     "text": [
      "None\n"
     ]
    }
   ],
   "source": [
    "print(new_Countries_info)"
   ]
  },
  {
   "cell_type": "markdown",
   "id": "96ea8ec6",
   "metadata": {},
   "source": [
    "<h2>Finding elements in List<h2>"
   ]
  },
  {
   "cell_type": "code",
   "execution_count": 43,
   "id": "38157ed6",
   "metadata": {},
   "outputs": [
    {
     "data": {
      "text/plain": [
       "'Iran'"
      ]
     },
     "execution_count": 43,
     "metadata": {},
     "output_type": "execute_result"
    }
   ],
   "source": [
    "Countries[0]"
   ]
  },
  {
   "cell_type": "code",
   "execution_count": 44,
   "id": "6f2bd54b",
   "metadata": {},
   "outputs": [
    {
     "data": {
      "text/plain": [
       "2"
      ]
     },
     "execution_count": 44,
     "metadata": {},
     "output_type": "execute_result"
    }
   ],
   "source": [
    "Countries.index('USA')"
   ]
  },
  {
   "cell_type": "markdown",
   "id": "a15e1edf",
   "metadata": {},
   "source": [
    "<h2>Removing elements from a list<h2>"
   ]
  },
  {
   "cell_type": "code",
   "execution_count": 45,
   "id": "20e56066",
   "metadata": {},
   "outputs": [
    {
     "name": "stdout",
     "output_type": "stream",
     "text": [
      "Countries are:  ['Iran', 'USA', 'Canada', 'Turkey', 'Tehran', 'Tokyo', 'DC', 'Ottawa', 'Ankara']\n"
     ]
    }
   ],
   "source": [
    "# Using .pop() method, it works only with position\n",
    "Countries.index('Japan')\n",
    "#which is 1\n",
    "New_Countries=Countries.pop(1)"
   ]
  },
  {
   "cell_type": "code",
   "execution_count": 46,
   "id": "43a49f06",
   "metadata": {},
   "outputs": [
    {
     "name": "stdout",
     "output_type": "stream",
     "text": [
      "Countries are:  ['Iran', 'USA', 'Canada', 'Turkey', 'Tehran', 'Tokyo', 'DC', 'Ottawa', 'Ankara']\n",
      "Deleted Countries are:  Japan\n"
     ]
    }
   ],
   "source": [
    "print('Countries are: ', Countries)\n",
    "print('Deleted Countries are: ', New_Countries)"
   ]
  },
  {
   "cell_type": "markdown",
   "id": "619e38a7",
   "metadata": {},
   "source": [
    "<h2>Iterating over list<h2>"
   ]
  },
  {
   "cell_type": "code",
   "execution_count": 47,
   "id": "6a1e2411",
   "metadata": {},
   "outputs": [
    {
     "name": "stdout",
     "output_type": "stream",
     "text": [
      "Iran\n",
      "USA\n",
      "Canada\n",
      "Turkey\n",
      "Tehran\n",
      "Tokyo\n",
      "DC\n",
      "Ottawa\n",
      "Ankara\n"
     ]
    }
   ],
   "source": [
    "for item in Countries:\n",
    "    print(item)"
   ]
  },
  {
   "cell_type": "code",
   "execution_count": 48,
   "id": "24038372",
   "metadata": {},
   "outputs": [
    {
     "name": "stdout",
     "output_type": "stream",
     "text": [
      "Ankara\n",
      "Canada\n",
      "DC\n",
      "Iran\n",
      "Japan\n",
      "Ottawa\n",
      "Tehran\n",
      "Tokyo\n",
      "Turkey\n",
      "USA\n"
     ]
    }
   ],
   "source": [
    "# Sort the names in alphabetical order\n",
    "for name in sorted(Countries_info):\n",
    "    # Print each name\n",
    "    print(name)"
   ]
  },
  {
   "cell_type": "markdown",
   "id": "9f4fc84e",
   "metadata": {},
   "source": [
    "<h1>Tuples<h1>"
   ]
  },
  {
   "cell_type": "code",
   "execution_count": 50,
   "id": "92f9c28f",
   "metadata": {},
   "outputs": [],
   "source": [
    "boy_names=['JOSIAH',\n",
    " 'ETHAN',\n",
    " 'David',\n",
    " 'Jayden',\n",
    " 'MASON',\n",
    " 'RYAN',\n",
    " 'CHRISTIAN',\n",
    " 'ISAIAH',\n",
    " 'JAYDEN',\n",
    " 'Michael',\n",
    " 'NOAH',\n",
    " 'SAMUEL',\n",
    " 'SEBASTIAN',\n",
    " 'Noah',\n",
    " 'Dylan',\n",
    " 'LUCAS',\n",
    " 'JOSHUA',\n",
    " 'ANGEL',\n",
    " 'Jacob',\n",
    " 'Matthew',\n",
    " 'Josiah',\n",
    " 'JACOB',\n",
    " 'Muhammad',\n",
    " 'ALEXANDER',\n",
    " 'Jason',\n",
    " 'Ethan',\n",
    " 'DANIEL',\n",
    " 'Joseph',\n",
    " 'AIDEN',\n",
    " 'Moshe',\n",
    " 'Jeremiah',\n",
    " 'William',\n",
    " 'Alexander',\n",
    " 'Sebastian',\n",
    " 'ERIC',\n",
    " 'MOSHE',\n",
    " 'Jack',\n",
    " 'Eric',\n",
    " 'MUHAMMAD',\n",
    " 'Lucas',\n",
    " 'BENJAMIN',\n",
    " 'Aiden',\n",
    " 'Ryan',\n",
    " 'Liam',\n",
    " 'JASON',\n",
    " 'KEVIN',\n",
    " 'Elijah',\n",
    " 'Angel',\n",
    " 'JAMES',\n",
    " 'Daniel',\n",
    " 'Samuel',\n",
    " 'Amir',\n",
    " 'Mason',\n",
    " 'Joshua',\n",
    " 'ANTHONY',\n",
    " 'JOSEPH',\n",
    " 'Benjamin',\n",
    " 'JUSTIN',\n",
    " 'JEREMIAH',\n",
    " 'MATTHEW',\n",
    " 'Carter',\n",
    " 'James',\n",
    " 'TYLER',\n",
    " 'DAVID',\n",
    " 'JACK',\n",
    " 'ELIJAH',\n",
    " 'MICHAEL',\n",
    " 'CHRISTOPHER']"
   ]
  },
  {
   "cell_type": "code",
   "execution_count": 52,
   "id": "4367b2b7",
   "metadata": {},
   "outputs": [],
   "source": [
    "girl_names=['JADA',\n",
    " 'Emily',\n",
    " 'Ava',\n",
    " 'SERENITY',\n",
    " 'Claire',\n",
    " 'SOPHIA',\n",
    " 'Sarah',\n",
    " 'ASHLEY',\n",
    " 'CHAYA',\n",
    " 'ABIGAIL',\n",
    " 'Zoe',\n",
    " 'LEAH',\n",
    " 'HAILEY',\n",
    " 'AVA',\n",
    " 'Olivia',\n",
    " 'EMMA',\n",
    " 'CHLOE',\n",
    " 'Sophia',\n",
    " 'AALIYAH',\n",
    " 'Angela',\n",
    " 'Camila',\n",
    " 'Savannah',\n",
    " 'Serenity',\n",
    " 'Chloe',\n",
    " 'Fatoumata',\n",
    " 'ISABELLA',\n",
    " 'MIA',\n",
    " 'FIONA',\n",
    " 'Skylar',\n",
    " 'Ashley',\n",
    " 'Rachel',\n",
    " 'Sofia',\n",
    " 'Alina',\n",
    " 'MADISON',\n",
    " 'RACHEL',\n",
    " 'CAMILA',\n",
    " 'CHANA',\n",
    " 'TAYLOR',\n",
    " 'Kayla',\n",
    " 'Miriam',\n",
    " 'Leah',\n",
    " 'Grace',\n",
    " 'ANGELA',\n",
    " 'Isabella',\n",
    " 'Emma',\n",
    " 'KAYLA',\n",
    " 'SOFIA',\n",
    " 'Madison',\n",
    " 'Aaliyah',\n",
    " 'Taylor',\n",
    " 'GENESIS',\n",
    " 'Esther',\n",
    " 'MAKAYLA',\n",
    " 'Victoria',\n",
    " 'Chaya',\n",
    " 'Brielle',\n",
    " 'Anna',\n",
    " 'Samantha',\n",
    " 'ESTHER',\n",
    " 'GRACE',\n",
    " 'Mariam',\n",
    " 'Mia',\n",
    " 'NEVAEH',\n",
    " 'GABRIELLE',\n",
    " 'EMILY',\n",
    " 'London',\n",
    " 'TIFFANY',\n",
    " 'Chana',\n",
    " 'Valentina',\n",
    " 'OLIVIA',\n",
    " 'LONDON',\n",
    " 'MIRIAM',\n",
    " 'SARAH',\n",
    " 'ELLA']"
   ]
  },
  {
   "cell_type": "code",
   "execution_count": 54,
   "id": "82aef525",
   "metadata": {},
   "outputs": [],
   "source": [
    "# Pair up the girl and boy names: pairs\n",
    "pairs = zip(girl_names, boy_names)\n",
    "\n",
    "# Iterate over pairs\n",
    "for idx, pair in enumerate(pairs):\n",
    "    # Unpack pair: girl_name, boy_name\n",
    "    boy_name, girl_name = pair\n",
    "    # Print the rank and names associated with each rank\n",
    "    print('Rank {}: {} and {}'.format(idx, boy_name, girl_name))"
   ]
  },
  {
   "cell_type": "markdown",
   "id": "95c310a1",
   "metadata": {},
   "source": [
    "<h1>Sets<h1>"
   ]
  },
  {
   "cell_type": "markdown",
   "id": "58711889",
   "metadata": {},
   "source": [
    "<h2>Setes are mutable and provide opportunity to check the overlapping and differences<h2>"
   ]
  },
  {
   "cell_type": "code",
   "execution_count": 55,
   "id": "fbb88462",
   "metadata": {},
   "outputs": [
    {
     "name": "stdout",
     "output_type": "stream",
     "text": [
      "142\n",
      "0\n"
     ]
    }
   ],
   "source": [
    "# Find the union: all_names\n",
    "baby_names_2011=set(girl_names)\n",
    "baby_names_2014=set(boy_names)\n",
    "all_names = baby_names_2011.union(baby_names_2014)\n",
    "\n",
    "# Print the count of names in all_names\n",
    "print(len(all_names))\n",
    "\n",
    "# Find the intersection: overlapping_names\n",
    "overlapping_names = baby_names_2011.intersection(baby_names_2014)\n",
    "\n",
    "\n",
    "# Print the count of names in overlapping_names\n",
    "print(len(overlapping_names))"
   ]
  },
  {
   "cell_type": "code",
   "execution_count": null,
   "id": "b3f8d4cb",
   "metadata": {},
   "outputs": [],
   "source": [
    "# Create the empty set: baby_names_2011\n",
    "baby_names_2011 = set()\n",
    "\n",
    "# Loop over records and add the names from 2011 to the baby_names_2011 set\n",
    "for row in records:\n",
    "    # Check if the first column is '2011'\n",
    "    if row[0] == '2011':\n",
    "        # Add the fourth column to the set\n",
    "        baby_names_2011.add(row[3])\n",
    "\n",
    "# Find the difference between 2011 and 2014: differences\n",
    "differences = baby_names_2011.difference(baby_names_2014)\n",
    "\n",
    "# Print the differences\n",
    "print(differences)"
   ]
  },
  {
   "cell_type": "markdown",
   "id": "74c7ea25",
   "metadata": {},
   "source": [
    "<h1>Dictionaries<h1>"
   ]
  },
  {
   "cell_type": "code",
   "execution_count": 59,
   "id": "0bb46b1b",
   "metadata": {},
   "outputs": [],
   "source": [
    "female_baby_names_2012={44: 'RIVKY',\n",
    " 26: 'JULIA',\n",
    " 43: 'TOBY',\n",
    " 37: 'MALKY',\n",
    " 19: 'ABIGAIL',\n",
    " 25: 'ZOE',\n",
    " 42: 'PENELOPE',\n",
    " 39: 'MALKA',\n",
    " 33: 'SHAINDY',\n",
    " 36: 'MADISON',\n",
    " 35: 'GITTY',\n",
    " 32: 'STELLA',\n",
    " 41: 'MADELINE',\n",
    " 7: 'CHAYA',\n",
    " 38: 'EVA',\n",
    " 18: 'ELIZABETH',\n",
    " 30: 'GRACE',\n",
    " 34: 'FAIGY',\n",
    " 14: 'SARA',\n",
    " 45: 'NICOLE',\n",
    " 20: 'ALEXANDRA',\n",
    " 12: 'EMILY',\n",
    " 29: 'HANNAH',\n",
    " 1: 'EMMA',\n",
    " 40: 'ALEXA',\n",
    " 28: 'GABRIELLA',\n",
    " 24: 'RIVKA',\n",
    " 4: 'SOPHIA',\n",
    " 5: 'ESTHER',\n",
    " 27: 'SOPHIE',\n",
    " 22: 'LILY',\n",
    " 10: 'MIRIAM',\n",
    " 8: 'AVA',\n",
    " 9: 'CHANA',\n",
    " 13: 'MIA',\n",
    " 6: 'RACHEL',\n",
    " 17: 'MAYA',\n",
    " 31: 'AVERY',\n",
    " 11: 'ELLA',\n",
    " 23: 'SOFIA',\n",
    " 3: 'SARAH',\n",
    " 21: 'VICTORIA',\n",
    " 16: 'ISABELLA',\n",
    " 2: 'LEAH',\n",
    " 15: 'CHARLOTTE',\n",
    " 46: 'VIOLET',\n",
    " 47: 'NATALIE',\n",
    " 69: 'LILIANA',\n",
    " 62: 'SURY',\n",
    " 71: 'SAVANNAH',\n",
    " 75: 'VERA',\n",
    " 72: 'VANESSA',\n",
    " 48: 'REBECCA',\n",
    " 77: 'SYLVIA',\n",
    " 67: 'TAYLOR',\n",
    " 57: 'VALENTINA',\n",
    " 73: 'SIMONE',\n",
    " 79: 'SHAINA',\n",
    " 53: 'RILEY',\n",
    " 64: 'YIDES',\n",
    " 78: 'SIMA',\n",
    " 51: 'NINA',\n",
    " 74: 'SLOANE',\n",
    " 63: 'NAOMI',\n",
    " 70: 'YAEL',\n",
    " 55: 'SYDNEY',\n",
    " 68: 'ZOEY',\n",
    " 76: 'YEHUDIS',\n",
    " 60: 'FRANCESCA',\n",
    " 49: 'MARIA',\n",
    " 61: 'ZISSY',\n",
    " 65: 'SKYLAR',\n",
    " 59: 'JOSEPHINE',\n",
    " 66: 'VERONICA',\n",
    " 50: 'YITTY',\n",
    " 58: 'TALIA',\n",
    " 52: 'KATHERINE',\n",
    " 54: 'SIENNA',\n",
    " 56: 'VIVIENNE',\n",
    " 81: 'YITTA',\n",
    " 83: 'YARA',\n",
    " 82: 'TZIVIA',\n",
    " 80: 'TZIPORA'}"
   ]
  },
  {
   "cell_type": "code",
   "execution_count": 60,
   "id": "29555eac",
   "metadata": {},
   "outputs": [
    {
     "name": "stdout",
     "output_type": "stream",
     "text": [
      "YARA\n",
      "TZIVIA\n",
      "YITTA\n",
      "TZIPORA\n",
      "SHAINA\n",
      "SIMA\n",
      "SYLVIA\n",
      "YEHUDIS\n",
      "VERA\n",
      "SLOANE\n"
     ]
    }
   ],
   "source": [
    "# Create an empty dictionary: names_by_rank\n",
    "names_by_rank={}\n",
    "\n",
    "# Loop over the girl names\n",
    "for rank, name in female_baby_names_2012.items():\n",
    "    # Add each name to the names_by_rank dictionary using rank as the key\n",
    "    names_by_rank[rank]=name\n",
    "    \n",
    "# Sort the names_by_rank dict by rank in descending order and slice the first 10 items\n",
    "for rank in sorted(names_by_rank,reverse=True)[:10]:\n",
    "    # Print each item\n",
    "    print(names_by_rank[rank])"
   ]
  },
  {
   "cell_type": "code",
   "execution_count": 61,
   "id": "24969b1b",
   "metadata": {},
   "outputs": [],
   "source": [
    "boy_names={2013: {50: 'Logan',\n",
    "  13: 'Henry',\n",
    "  54: 'Yaakov',\n",
    "  47: 'Yitzchok',\n",
    "  49: 'Menachem',\n",
    "  32: 'Luke',\n",
    "  44: 'Aron',\n",
    "  56: 'Omar',\n",
    "  42: 'Aaron',\n",
    "  5: 'Daniel',\n",
    "  43: 'Zachary',\n",
    "  45: 'Luca',\n",
    "  24: 'Anthony',\n",
    "  16: 'Nicholas',\n",
    "  30: 'Leo',\n",
    "  25: 'Isaac',\n",
    "  57: 'Levi',\n",
    "  19: 'Chaim',\n",
    "  51: 'Aiden',\n",
    "  37: 'Christopher',\n",
    "  55: 'Yakov',\n",
    "  33: 'Jackson',\n",
    "  21: 'Liam',\n",
    "  36: 'Joshua',\n",
    "  53: 'Peter',\n",
    "  38: 'Sebastian',\n",
    "  7: 'James',\n",
    "  52: 'Yisroel',\n",
    "  40: 'Eli',\n",
    "  27: 'Andrew',\n",
    "  35: 'Theodore',\n",
    "  8: 'Jacob',\n",
    "  2: 'Joseph',\n",
    "  14: 'Noah',\n",
    "  34: 'Shimon',\n",
    "  46: 'Yehuda',\n",
    "  29: 'Yosef',\n",
    "  22: 'Ryan',\n",
    "  9: 'Jack',\n",
    "  1: 'David',\n",
    "  28: 'Gabriel',\n",
    "  48: 'Owen',\n",
    "  26: 'Oliver',\n",
    "  11: 'William',\n",
    "  31: 'Thomas',\n",
    "  23: 'Lucas',\n",
    "  10: 'Alexander',\n",
    "  39: 'Mason',\n",
    "  4: 'Moshe',\n",
    "  41: 'Nathan',\n",
    "  17: 'Matthew',\n",
    "  12: 'John',\n",
    "  6: 'Benjamin',\n",
    "  20: 'Abraham',\n",
    "  18: 'Adam',\n",
    "  3: 'Michael',\n",
    "  15: 'Samuel',\n",
    "  62: 'Jonah',\n",
    "  61: 'Connor',\n",
    "  60: 'Patrick',\n",
    "  59: 'Shmuel',\n",
    "  58: 'Simon',\n",
    "  79: 'Parker',\n",
    "  82: 'Nicolas',\n",
    "  95: 'Sawyer',\n",
    "  94: 'Yoel',\n",
    "  90: 'Rayan',\n",
    "  73: 'Sean',\n",
    "  85: 'Usher',\n",
    "  92: 'Yossi',\n",
    "  65: 'Nathaniel',\n",
    "  93: 'Wesley',\n",
    "  81: 'Yechiel',\n",
    "  69: 'Hunter',\n",
    "  76: 'Martin',\n",
    "  74: 'Sam',\n",
    "  87: 'Yusuf',\n",
    "  67: 'Tyler',\n",
    "  88: 'Yehoshua',\n",
    "  84: 'Spencer',\n",
    "  83: 'Timothy',\n",
    "  63: 'Zev',\n",
    "  86: 'Rafael',\n",
    "  91: 'Tristan',\n",
    "  89: 'Shaya',\n",
    "  71: 'Lipa',\n",
    "  66: 'Harrison',\n",
    "  68: 'Mark',\n",
    "  75: 'Solomon',\n",
    "  78: 'Wyatt',\n",
    "  80: 'Steven',\n",
    "  64: 'Tzvi',\n",
    "  70: 'Mohamed',\n",
    "  72: 'Mendel',\n",
    "  77: 'Edward',\n",
    "  96: 'Yousef',\n",
    "  100: 'Yitzchak',\n",
    "  99: 'Yeshaya',\n",
    "  97: 'Walter',\n",
    "  98: 'Zalmen'},\n",
    " 2014: {54: 'Aron',\n",
    "  14: 'Henry',\n",
    "  58: 'Miles',\n",
    "  38: 'Andrew',\n",
    "  33: 'Eli',\n",
    "  42: 'Jackson',\n",
    "  51: 'Yitzchok',\n",
    "  56: 'Levi',\n",
    "  57: 'Shmuel',\n",
    "  39: 'Zachary',\n",
    "  5: 'Jacob',\n",
    "  40: 'Owen',\n",
    "  48: 'Asher',\n",
    "  26: 'Lucas',\n",
    "  21: 'Noah',\n",
    "  50: 'Robert',\n",
    "  47: 'Jonathan',\n",
    "  55: 'Mark',\n",
    "  36: 'Mason',\n",
    "  29: 'Anthony',\n",
    "  45: 'Aiden',\n",
    "  37: 'Mordechai',\n",
    "  53: 'Christian',\n",
    "  18: 'Ethan',\n",
    "  52: 'George',\n",
    "  24: 'Theodore',\n",
    "  34: 'Shimon',\n",
    "  30: 'Oliver',\n",
    "  7: 'Alexander',\n",
    "  46: 'Christopher',\n",
    "  22: 'Matthew',\n",
    "  9: 'Samuel',\n",
    "  2: 'David',\n",
    "  11: 'James',\n",
    "  35: 'Luke',\n",
    "  28: 'Yosef',\n",
    "  44: 'Nathan',\n",
    "  20: 'Ryan',\n",
    "  10: 'Jack',\n",
    "  1: 'Joseph',\n",
    "  49: 'Logan',\n",
    "  32: 'Gabriel',\n",
    "  17: 'John',\n",
    "  15: 'Abraham',\n",
    "  19: 'Liam',\n",
    "  16: 'Nicholas',\n",
    "  4: 'Moshe',\n",
    "  13: 'William',\n",
    "  12: 'Adam',\n",
    "  27: 'Thomas',\n",
    "  6: 'Benjamin',\n",
    "  23: 'Chaim',\n",
    "  41: 'Yehuda',\n",
    "  31: 'Max',\n",
    "  3: 'Michael',\n",
    "  25: 'Isaac',\n",
    "  8: 'Daniel',\n",
    "  43: 'Yisroel',\n",
    "  59: 'Shlomo',\n",
    "  60: 'Peter',\n",
    "  90: 'Naftali',\n",
    "  75: 'Shia',\n",
    "  98: 'Yisrael',\n",
    "  88: 'Youssef',\n",
    "  74: 'Oscar',\n",
    "  84: 'Philip',\n",
    "  93: 'Shmiel',\n",
    "  95: 'Naftuli',\n",
    "  68: 'Yakov',\n",
    "  96: 'Yusuf',\n",
    "  89: 'Simcha',\n",
    "  91: 'Ronan',\n",
    "  78: 'Tyler',\n",
    "  72: 'Edward',\n",
    "  92: 'Usher',\n",
    "  69: 'Hunter',\n",
    "  85: 'Timothy',\n",
    "  80: 'Sam',\n",
    "  82: 'Ian',\n",
    "  94: 'Yousef',\n",
    "  66: 'Nathaniel',\n",
    "  87: 'Xavier',\n",
    "  97: 'Yossi',\n",
    "  73: 'Yechiel',\n",
    "  67: 'Yaakov',\n",
    "  86: 'Yehoshua',\n",
    "  81: 'Shaya',\n",
    "  70: 'Vincent',\n",
    "  79: 'Wyatt',\n",
    "  61: 'Sean',\n",
    "  64: 'Gavin',\n",
    "  83: 'Raphael',\n",
    "  65: 'Zev',\n",
    "  62: 'Eliezer',\n",
    "  76: 'Leonardo',\n",
    "  77: 'Victor',\n",
    "  63: 'Solomon',\n",
    "  71: 'Ari',\n",
    "  100: 'Yoel',\n",
    "  101: 'Yahya',\n",
    "  99: 'Shea',\n",
    "  102: 'Yidel'},\n",
    " 2012: {}}"
   ]
  },
  {
   "cell_type": "code",
   "execution_count": 62,
   "id": "8db4537b",
   "metadata": {},
   "outputs": [
    {
     "name": "stdout",
     "output_type": "stream",
     "text": [
      "dict_keys([2013, 2014, 2012])\n",
      "dict_keys([50, 13, 54, 47, 49, 32, 44, 56, 42, 5, 43, 45, 24, 16, 30, 25, 57, 19, 51, 37, 55, 33, 21, 36, 53, 38, 7, 52, 40, 27, 35, 8, 2, 14, 34, 46, 29, 22, 9, 1, 28, 48, 26, 11, 31, 23, 10, 39, 4, 41, 17, 12, 6, 20, 18, 3, 15, 62, 61, 60, 59, 58, 79, 82, 95, 94, 90, 73, 85, 92, 65, 93, 81, 69, 76, 74, 87, 67, 88, 84, 83, 63, 86, 91, 89, 71, 66, 68, 75, 78, 80, 64, 70, 72, 77, 96, 100, 99, 97, 98])\n",
      "2013 Michael\n",
      "2014 Michael\n",
      "2012 Unknown\n"
     ]
    }
   ],
   "source": [
    "# Print a list of keys from the boy_names dictionary\n",
    "print(boy_names.keys())\n",
    "\n",
    "# Print a list of keys from the boy_names dictionary for the year 2013\n",
    "print(boy_names.get(2013).keys())\n",
    "\n",
    "# Loop over the dictionary\n",
    "for year in boy_names:\n",
    "    # Safely print the year and the third ranked name or 'Unknown'\n",
    "    print(year, boy_names[year].get(3, 'Unknown'))"
   ]
  },
  {
   "cell_type": "code",
   "execution_count": null,
   "id": "fd11ae9b",
   "metadata": {},
   "outputs": [],
   "source": [
    "# Assign the names_2011 dictionary as the value to the 2011 key of boy_names\n",
    "boy_names[2011] = names_2011\n",
    "\n",
    "# Update the 2012 key in the boy_names dictionary\n",
    "updates=[(1, 'Casey'), (2, 'Aiden')]\n",
    "boy_names[2012].update(updates)\n",
    "\n",
    "# Loop over the years in the boy_names dictionary \n",
    "for year in boy_names:\n",
    "    # Sort the data for each year by descending rank and get the lowest one\n",
    "    lowest_ranked =  sorted(boy_names[year], reverse=True)[0]\n",
    "    # Safely print the year and the least popular name or 'Not Available'\n",
    "    print(year, boy_names[year].get(lowest_ranked,'Not Available'))"
   ]
  },
  {
   "cell_type": "code",
   "execution_count": null,
   "id": "d4bcc379",
   "metadata": {},
   "outputs": [],
   "source": [
    "# Remove 2011 from female_names and store it: female_names_2011\n",
    "female_names_2011 = female_names.pop(2011)\n",
    "\n",
    "# Safely remove 2015 from female_names with an empty dictionary as the default: female_names_2015\n",
    "female_names_2015 = female_names.pop(2015,{})\n",
    "\n",
    "\n",
    "# Delete 2012 from female_names\n",
    "del(female_names[2012])\n",
    "\n",
    "# Print female_names\n",
    "print(female_names)"
   ]
  },
  {
   "cell_type": "code",
   "execution_count": null,
   "id": "40c9e4d9",
   "metadata": {},
   "outputs": [],
   "source": [
    "# Iterate over the 2014 nested dictionary\n",
    "for rank, name in baby_names[2014].items():\n",
    "    # Print rank and name\n",
    "    print(rank, name)\n",
    "    \n",
    "# Iterate over the 2012 nested dictionary\n",
    "for rank, name in baby_names[2014].items():\n",
    "    # Print rank and name\n",
    "    print(rank, name)"
   ]
  },
  {
   "cell_type": "code",
   "execution_count": null,
   "id": "3cb89c9a",
   "metadata": {},
   "outputs": [],
   "source": [
    "# Import the python CSV module\n",
    "import csv\n",
    "\n",
    "# Create a python file object in read mode for the baby_names.csv file: csvfile\n",
    "csvfile = open('baby_names.csv', 'r')\n",
    "\n",
    "# Loop over a csv reader on the file object\n",
    "for row in csv.reader(csvfile):\n",
    "    # Print each row \n",
    "    print(row)\n",
    "    # Add the rank and name to the dictionary\n",
    "    baby_names[row[5]] = row[3]\n",
    "\n",
    "# Print the dictionary keys\n",
    "print(baby_names.keys())"
   ]
  },
  {
   "cell_type": "code",
   "execution_count": null,
   "id": "82ab9608",
   "metadata": {},
   "outputs": [],
   "source": [
    "# Import the python CSV module\n",
    "import csv \n",
    "\n",
    "# Create a python file object in read mode for the `baby_names.csv` file: csvfile\n",
    "csvfile = open('baby_names.csv','r')\n",
    "\n",
    "# Loop over a DictReader on the file\n",
    "for row in csv.DictReader(csvfile):\n",
    "    # Print each row \n",
    "    print(row)\n",
    "    # Add the rank and name to the dictionary: baby_names\n",
    "    baby_names[row['RANK']] = row['NAME']\n",
    "\n",
    "# Print the dictionary keys\n",
    "print(baby_names.keys())"
   ]
  },
  {
   "cell_type": "code",
   "execution_count": null,
   "id": "d8ae984a",
   "metadata": {},
   "outputs": [],
   "source": [
    "# Import the Counter object\n",
    "from collections import Counter\n",
    "\n",
    "# Print the first ten items from the stations list\n",
    "print(stations[:10])\n",
    "\n",
    "# Create a Counter of the stations list: station_count\n",
    "station_count = Counter(stations)\n",
    "\n",
    "# Print the station_count\n",
    "print(station_count)"
   ]
  },
  {
   "cell_type": "code",
   "execution_count": null,
   "id": "6d74c4b5",
   "metadata": {},
   "outputs": [],
   "source": [
    "# Create an empty dictionary: ridership\n",
    "ridership = {}\n",
    "\n",
    "# Iterate over the entries\n",
    "for date, stop, riders in entries:\n",
    "    # Check to see if date is already in the ridership dictionary\n",
    "    if date not in ridership:\n",
    "        # Create an empty list for any missing date\n",
    "        ridership[date] = []\n",
    "    # Append the stop and riders as a tuple to the date keys list\n",
    "    ridership[date].append((stop,riders))\n",
    "    \n",
    "# Print the ridership for '03/09/2016'\n",
    "print(ridership['03/09/2016'])"
   ]
  },
  {
   "cell_type": "code",
   "execution_count": null,
   "id": "cd3c2206",
   "metadata": {},
   "outputs": [],
   "source": [
    "# Import defaultdict\n",
    "from collections import defaultdict\n",
    "\n",
    "# Create a defaultdict with a default type of list: ridership\n",
    "ridership = defaultdict(list)\n",
    "\n",
    "# Iterate over the entries\n",
    "for date, stop, riders in entries:\n",
    "    # Use the stop as the key of ridership and append the riders to its value\n",
    "    ridership[stop].append(riders)\n",
    "    \n",
    "# Print the first 10 items of the ridership dictionary\n",
    "print(list(ridership.items())[:10])"
   ]
  },
  {
   "cell_type": "code",
   "execution_count": null,
   "id": "92762077",
   "metadata": {},
   "outputs": [],
   "source": [
    "# Import OrderedDict from collections\n",
    "from collections import OrderedDict\n",
    "\n",
    "# Create an OrderedDict called: ridership_date\n",
    "ridership_date = OrderedDict()\n",
    "\n",
    "# Iterate over the entries\n",
    "for date, riders in entries:\n",
    "    # If a key does not exist in ridership_date, set it to 0\n",
    "    if  date not in ridership_date:\n",
    "        ridership_date[date] = 0\n",
    "        \n",
    "    # Add riders to the date key in ridership_date\n",
    "    ridership_date[date] += riders\n",
    "    \n",
    "# Print the first 31 records\n",
    "print(list(ridership_date.items())[:31])"
   ]
  },
  {
   "cell_type": "code",
   "execution_count": null,
   "id": "c0934908",
   "metadata": {},
   "outputs": [],
   "source": [
    "# Import namedtuple from collections\n",
    "from collections import namedtuple\n",
    "\n",
    "# Create the namedtuple: DateDetails\n",
    "DateDetails = namedtuple('DateDetails', ['date', 'stop', 'riders'])\n",
    "\n",
    "# Create the empty list: labeled_entries\n",
    "labeled_entries = []\n",
    "\n",
    "# Iterate over the entries list\n",
    "for date, stop, riders in entries:\n",
    "    # Append a new DateDetails namedtuple instance for each entry to labeled_entries\n",
    "    labeled_entries.append(DateDetails(date,stop,riders))\n",
    "    \n",
    "# Print the first 5 items in labeled_entries\n",
    "print(labeled_entries[:5])"
   ]
  },
  {
   "cell_type": "code",
   "execution_count": null,
   "id": "c4b701a1",
   "metadata": {},
   "outputs": [],
   "source": [
    "# Iterate over the first twenty items in labeled_entries\n",
    "for item in labeled_entries[:20]:\n",
    "    # Print each item's stop\n",
    "    print(item.stop)\n",
    "\n",
    "    # Print each item's date\n",
    "    print(item.date)\n",
    "\n",
    "    # Print each item's riders\n",
    "    print(item.riders)"
   ]
  },
  {
   "cell_type": "markdown",
   "id": "c936e264",
   "metadata": {},
   "source": [
    "<h2>Date Time<h2>"
   ]
  },
  {
   "cell_type": "code",
   "execution_count": null,
   "id": "8ab73bb6",
   "metadata": {},
   "outputs": [],
   "source": [
    "# Import the datetime object from datetime\n",
    "from datetime import datetime\n",
    "\n",
    "# Iterate over the dates_list \n",
    "for date_str in dates_list:\n",
    "    # Convert each date to a datetime object: date_dt\n",
    "    date_dt = datetime.strptime(date_str,'%m/%d/%Y')\n",
    "    \n",
    "    # Print each date_dt\n",
    "    print(date_dt)"
   ]
  },
  {
   "cell_type": "code",
   "execution_count": null,
   "id": "f8a192d6",
   "metadata": {},
   "outputs": [],
   "source": [
    "# Loop over the first 10 items of the datetimes_list\n",
    "for item in datetimes_list[:10]:\n",
    "    # Print out the record as a string in the format of 'MM/DD/YYYY'\n",
    "    print(item.strftime('%m/%d/%Y'))\n",
    "    \n",
    "    # Print out the record as an ISO standard string\n",
    "    print(item.isoformat())"
   ]
  },
  {
   "cell_type": "code",
   "execution_count": null,
   "id": "65031dea",
   "metadata": {},
   "outputs": [],
   "source": [
    "# Create a defaultdict of an integer: monthly_total_rides\n",
    "monthly_total_rides = defaultdict(int)\n",
    "\n",
    "# Loop over the list daily_summaries\n",
    "for daily_summary in daily_summaries:\n",
    "    # Convert the service_date to a datetime object\n",
    "    service_datetime = datetime.strptime(daily_summary[0],'%m/%d/%Y')\n",
    "\n",
    "    # Add the total rides to the current amount for the month\n",
    "    monthly_total_rides[service_datetime.month] += int(list(daily_summary)[4])\n",
    "    \n",
    "# Print monthly_total_rides\n",
    "print(monthly_total_rides)"
   ]
  },
  {
   "cell_type": "code",
   "execution_count": null,
   "id": "7e90852b",
   "metadata": {},
   "outputs": [],
   "source": [
    "# Create a Timezone object for Chicago\n",
    "chicago_usa_tz = timezone('US/Central')\n",
    "\n",
    "# Create a Timezone object for New York\n",
    "ny_usa_tz = timezone('US/Eastern')\n",
    "\n",
    "# Iterate over the daily_summaries list\n",
    "for orig_dt, ridership in daily_summaries:\n",
    "\n",
    "    # Make the orig_dt timezone \"aware\" for Chicago\n",
    "    chicago_dt = orig_dt.replace(tzinfo=chicago_usa_tz)\n",
    "    \n",
    "    # Convert chicago_dt to the New York Timezone\n",
    "    ny_dt = chicago_dt.astimezone(ny_usa_tz)\n",
    "    \n",
    "    # Print the chicago_dt, ny_dt, and ridership\n",
    "    print('Chicago: %s, NY: %s, Ridership: %s' % (chicago_dt, ny_dt, ridership))"
   ]
  },
  {
   "cell_type": "code",
   "execution_count": null,
   "id": "86f30a8b",
   "metadata": {},
   "outputs": [],
   "source": [
    "# Import timedelta from the datetime module\n",
    "from datetime import timedelta\n",
    "\n",
    "# Build a timedelta of 30 days: glanceback\n",
    "glanceback = timedelta(30)\n",
    "\n",
    "# Iterate over the review_dates as date\n",
    "for date in review_dates:\n",
    "    # Calculate the date 30 days back: prior_period_dt\n",
    "    prior_period_dt = date - glanceback\n",
    "    \n",
    "    # Print the review_date, day_type and total_ridership\n",
    "    print('Date: %s, Type: %s, Total Ridership: %s' %\n",
    "         (date, \n",
    "          daily_summaries[date]['day_type'], \n",
    "          daily_summaries[date]['total_ridership']))\n",
    "\n",
    "    # Print the prior_period_dt, day_type and total_ridership\n",
    "    print('Date: %s, Type: %s, Total Ridership: %s' %\n",
    "         (prior_period_dt, \n",
    "          daily_summaries[prior_period_dt]['day_type'], \n",
    "          daily_summaries[prior_period_dt]['total_ridership']))"
   ]
  },
  {
   "cell_type": "markdown",
   "id": "1964cae2",
   "metadata": {},
   "source": [
    "<h2>Pendulum module<h2>"
   ]
  },
  {
   "cell_type": "code",
   "execution_count": null,
   "id": "ad6ca625",
   "metadata": {},
   "outputs": [],
   "source": [
    "# Import the pendulum module\n",
    "import pendulum\n",
    "\n",
    "# Create a now datetime for Tokyo: tokyo_dt\n",
    "tokyo_dt = pendulum.now('Asia/Tokyo')\n",
    "\n",
    "# Covert the tokyo_dt to Los Angeles: la_dt\n",
    "la_dt = tokyo_dt.in_timezone('America/Los_Angeles')\n",
    "\n",
    "# Print the ISO 8601 string of la_dt\n",
    "print(la_dt.to_iso8601_string())"
   ]
  },
  {
   "cell_type": "code",
   "execution_count": null,
   "id": "552f04fa",
   "metadata": {},
   "outputs": [],
   "source": [
    "# Iterate over date_ranges\n",
    "for start_date, end_date in date_ranges:\n",
    "\n",
    "    # Convert the start_date string to a pendulum date: start_dt \n",
    "    start_dt = pendulum.parse(start_date, strict=False)\n",
    "    \n",
    "    # Convert the end_date string to a pendulum date: end_dt \n",
    "    end_dt = pendulum.parse(end_date, strict=False)\n",
    "    \n",
    "    # Print the End and Start Date\n",
    "    print(end_dt, start_dt)\n",
    "    \n",
    "    # Calculate the difference between end_dt and start_dt: diff_period\n",
    "    diff_period = end_dt - start_dt\n",
    "    \n",
    "    # Print the difference in days\n",
    "    print(diff_period.in_days())"
   ]
  },
  {
   "cell_type": "code",
   "execution_count": null,
   "id": "251214fd",
   "metadata": {},
   "outputs": [],
   "source": [
    "# Import the csv module\n",
    "import csv\n",
    "\n",
    "# Create the file object: csvfile\n",
    "csvfile = open('crime_sampler.csv','r')\n",
    "\n",
    "# Create an empty list: crime_data\n",
    "crime_data = []\n",
    "\n",
    "# Loop over a csv reader on the file object\n",
    "for row in csv.reader(csvfile):\n",
    "\n",
    "    # Append the date, type of crime, location description, and arrest\n",
    "    crime_data.append((row[0], row[2], row[4], row[5]))\n",
    "    \n",
    "# Remove the first element from crime_data\n",
    "crime_data.pop(0)\n",
    "\n",
    "# Print the first 10 records\n",
    "print(crime_data[:10])"
   ]
  },
  {
   "cell_type": "code",
   "execution_count": null,
   "id": "ea84cb66",
   "metadata": {},
   "outputs": [],
   "source": [
    "# Import necessary modules\n",
    "from datetime import datetime\n",
    "from collections import Counter\n",
    "\n",
    "# Create a Counter Object: crimes_by_month\n",
    "crimes_by_month = Counter()\n",
    "\n",
    "# Loop over the crime_data list\n",
    "for dates in crime_data:\n",
    "    \n",
    "    # Convert the first element of each item into a Python Datetime Object: date\n",
    "    date = datetime.strptime(dates[0], '%m/%d/%Y %I:%M:%S %p')\n",
    "    \n",
    "    # Increment the counter for the month of the row by one\n",
    "    crimes_by_month[date.month] += 1\n",
    "    \n",
    "# Print the 3 most common months for crime\n",
    "print(crimes_by_month.most_common(3))"
   ]
  },
  {
   "cell_type": "code",
   "execution_count": null,
   "id": "7287ede0",
   "metadata": {},
   "outputs": [],
   "source": [
    "# Import necessary modules\n",
    "from collections import defaultdict\n",
    "from datetime import datetime\n",
    "\n",
    "# Create a dictionary that defaults to a list: locations_by_month\n",
    "locations_by_month = defaultdict(list)\n",
    "\n",
    "# Loop over the crime_data list\n",
    "for row in crime_data:\n",
    "    # Convert the first element to a date object\n",
    "    date =datetime.strptime(row[0], '%m/%d/%Y %I:%M:%S %p')\n",
    "    \n",
    "    # If the year is 2016 \n",
    "    if date.year == 2016:\n",
    "        # Set the dictionary key to the month and append the location (fifth element) to the values list\n",
    "        locations_by_month[date.month].append(row[4])\n",
    "    \n",
    "# Print the dictionary\n",
    "print(locations_by_month)"
   ]
  },
  {
   "cell_type": "code",
   "execution_count": null,
   "id": "9b987450",
   "metadata": {},
   "outputs": [],
   "source": [
    "# Import Counter from collections\n",
    "from collections import Counter\n",
    "\n",
    "# Loop over the items from locations_by_month using tuple expansion of the month and locations\n",
    "for month, locations in locations_by_month.items():\n",
    "    # Make a Counter of the locations\n",
    "    location_count = Counter(locations)\n",
    "    # Print the month \n",
    "    print(month)\n",
    "    # Print the most common location\n",
    "    print(location_count.most_common(5))"
   ]
  },
  {
   "cell_type": "code",
   "execution_count": null,
   "id": "97da1a90",
   "metadata": {},
   "outputs": [],
   "source": [
    "# Create the CSV file: csvfile\n",
    "csvfile = open('crime_sampler.csv', 'r')\n",
    "\n",
    "# Create a dictionary that defaults to a list: crimes_by_district\n",
    "crimes_by_district = defaultdict(list)\n",
    "\n",
    "# Loop over a DictReader of the CSV file\n",
    "for row in csv.DictReader(csvfile):\n",
    "    # Pop the district from each row: district\n",
    "    district = row.pop('District')\n",
    "    # Append the rest of the data to the list for proper district in crimes_by_district\n",
    "    crimes_by_district[district].append(row)"
   ]
  },
  {
   "cell_type": "code",
   "execution_count": null,
   "id": "6d4cd06d",
   "metadata": {},
   "outputs": [],
   "source": [
    "# Loop over the crimes_by_district using expansion as district and crimes\n",
    "for district, crimes in crimes_by_district.items():\n",
    "    # Print the district\n",
    "    print(district)\n",
    "    #print(crime)\n",
    "    \n",
    "    # Create an empty Counter object: year_count\n",
    "    year_count = Counter()\n",
    "    \n",
    "    # Loop over the crimes:\n",
    "    for crime in crimes:\n",
    "        # If there was an arrest\n",
    "        if crime['Arrest'] == 'true':\n",
    "            # Convert the Date to a datetime and get the year\n",
    "            year = datetime.strptime(crime['Date'], '%m/%d/%Y %I:%M:%S %p').year\n",
    "            # Increment the Counter for the year\n",
    "            year_count[year] += 1\n",
    "            \n",
    "    # Print the counter\n",
    "    print(year_count)"
   ]
  },
  {
   "cell_type": "code",
   "execution_count": null,
   "id": "e5c56b0f",
   "metadata": {},
   "outputs": [],
   "source": [
    "# Create a unique list of crimes for the first block: n_state_st_crimes\n",
    "n_state_st_crimes = set(crimes_by_block['001XX N STATE ST'])\n",
    "\n",
    "# Print the list\n",
    "print(n_state_st_crimes)\n",
    "\n",
    "# Create a unique list of crimes for the second block: w_terminal_st_crimes\n",
    "w_terminal_st_crimes = set(crimes_by_block['0000X W TERMINAL ST'])\n",
    "\n",
    "# Print the list\n",
    "print(w_terminal_st_crimes)\n",
    "\n",
    "# Find the differences between the two blocks: crime_differences\n",
    "crime_differences = n_state_st_crimes.difference(w_terminal_st_crimes)\n",
    "\n",
    "# Print the differences\n",
    "print(crime_differences)"
   ]
  },
  {
   "cell_type": "markdown",
   "id": "895f8833",
   "metadata": {},
   "source": [
    "<h2>Function<h2>"
   ]
  },
  {
   "cell_type": "code",
   "execution_count": null,
   "id": "8561b91c",
   "metadata": {},
   "outputs": [],
   "source": [
    "# Define count_entries()\n",
    "def count_entries(df, col_name):\n",
    "    \"\"\"Return a dictionary with counts of \n",
    "    occurrences as value for each key.\"\"\"\n",
    "\n",
    "    # Initialize an empty dictionary: langs_count\n",
    "    langs_count = {}\n",
    "    \n",
    "    # Extract column from DataFrame: col\n",
    "    col = df[col_name]\n",
    "    \n",
    "    # Iterate over lang column in DataFrame\n",
    "    for entry in col:\n",
    "\n",
    "        # If the language is in langs_count, add 1\n",
    "        if entry in langs_count.keys():\n",
    "            langs_count[entry]+=1\n",
    "        # Else add the language to langs_count, set the value to 1\n",
    "        else:\n",
    "            langs_count[entry]=1\n",
    "\n",
    "    # Return the langs_count dictionary\n",
    "    return(langs_count)\n",
    "\n",
    "# Call count_entries(): result\n",
    "result=count_entries(tweets_df,'lang')\n",
    "\n",
    "# Print the result\n",
    "print(result)"
   ]
  },
  {
   "cell_type": "markdown",
   "id": "f37b3555",
   "metadata": {},
   "source": [
    "<h2>Raise error<h2>"
   ]
  },
  {
   "cell_type": "code",
   "execution_count": null,
   "id": "4f8a47ea",
   "metadata": {},
   "outputs": [],
   "source": [
    "# Define shout_echo\n",
    "def shout_echo(word1, echo=1):\n",
    "    \"\"\"Concatenate echo copies of word1 and three\n",
    "    exclamation marks at the end of the string.\"\"\"\n",
    "\n",
    "    # Raise an error with raise\n",
    "    if echo<0:\n",
    "        raise ValueError('echo must be greater than or equal to 0')\n",
    "\n",
    "    # Concatenate echo copies of word1 using *: echo_word\n",
    "    echo_word = word1 * echo\n",
    "\n",
    "    # Concatenate '!!!' to echo_word: shout_word\n",
    "    shout_word = echo_word + '!!!'\n",
    "\n",
    "    # Return shout_word\n",
    "    return shout_word\n",
    "\n",
    "# Call shout_echo\n",
    "shout_echo(\"particle\", echo=5)"
   ]
  },
  {
   "cell_type": "code",
   "execution_count": null,
   "id": "752161b3",
   "metadata": {},
   "outputs": [],
   "source": [
    "# Select retweets from the Twitter DataFrame: result\n",
    "result = filter(lambda x: x[0:2]=='RT', tweets_df['text'])\n",
    "\n",
    "# Create list from filter object result: res_list\n",
    "res_list=list(result)\n",
    "\n",
    "# Print all retweets in res_list\n",
    "for tweet in res_list:\n",
    "    print(tweet)"
   ]
  },
  {
   "cell_type": "code",
   "execution_count": null,
   "id": "f53ac886",
   "metadata": {},
   "outputs": [],
   "source": [
    "# Define count_entries()\n",
    "def count_entries(df, col_name='lang'):\n",
    "    \"\"\"Return a dictionary with counts of\n",
    "    occurrences as value for each key.\"\"\"\n",
    "\n",
    "    # Initialize an empty dictionary: cols_count\n",
    "    cols_count = {}\n",
    "\n",
    "    # Add try block\n",
    "    try:\n",
    "        # Extract column from DataFrame: col\n",
    "        col = df[col_name]\n",
    "        \n",
    "        # Iterate over the column in DataFrame\n",
    "        for entry in col:\n",
    "    \n",
    "            # If entry is in cols_count, add 1\n",
    "            if entry in cols_count.keys():\n",
    "                cols_count[entry] += 1\n",
    "            # Else add the entry to cols_count, set the value to 1\n",
    "            else:\n",
    "                cols_count[entry] = 1\n",
    "    \n",
    "        # Return the cols_count dictionary\n",
    "        return cols_count\n",
    "\n",
    "    # Add except block\n",
    "    except:\n",
    "        raise ValueError('The DataFrame does not have a ' + col_name + ' column.')\n",
    "\n",
    "# Call count_entries(): result1\n",
    "result1 = count_entries(tweets_df, 'lang')\n",
    "\n",
    "# Print result1\n",
    "print(result1)"
   ]
  },
  {
   "cell_type": "code",
   "execution_count": 64,
   "id": "fa9ae192",
   "metadata": {},
   "outputs": [],
   "source": []
  },
  {
   "cell_type": "code",
   "execution_count": 71,
   "id": "9e0563a3",
   "metadata": {},
   "outputs": [],
   "source": [
    "xx=['a',3,45]"
   ]
  },
  {
   "cell_type": "code",
   "execution_count": 73,
   "id": "e0f65f13",
   "metadata": {},
   "outputs": [],
   "source": [
    "xx.append('Omid')"
   ]
  },
  {
   "cell_type": "code",
   "execution_count": 75,
   "id": "212b4299",
   "metadata": {},
   "outputs": [],
   "source": [
    "xx.extend('Adrian')\n",
    "#['a', 3, 45, 'Omid', 'A', 'd', 'r', 'i', 'a', 'n']"
   ]
  },
  {
   "cell_type": "code",
   "execution_count": 81,
   "id": "1f3e515e",
   "metadata": {},
   "outputs": [],
   "source": [
    "xxx={'name':'Omid','Age':34}"
   ]
  },
  {
   "cell_type": "code",
   "execution_count": 82,
   "id": "81698a0d",
   "metadata": {},
   "outputs": [
    {
     "data": {
      "text/plain": [
       "'Omid'"
      ]
     },
     "execution_count": 82,
     "metadata": {},
     "output_type": "execute_result"
    }
   ],
   "source": [
    "xxx['name']"
   ]
  },
  {
   "cell_type": "code",
   "execution_count": 83,
   "id": "322a911e",
   "metadata": {},
   "outputs": [],
   "source": [
    "xxx['Education']='PhD'"
   ]
  },
  {
   "cell_type": "code",
   "execution_count": 86,
   "id": "775c0930",
   "metadata": {},
   "outputs": [],
   "source": [
    "xxx['Sport']='Box'"
   ]
  },
  {
   "cell_type": "code",
   "execution_count": 87,
   "id": "7aec039b",
   "metadata": {},
   "outputs": [
    {
     "ename": "AttributeError",
     "evalue": "'str' object has no attribute 'append'",
     "output_type": "error",
     "traceback": [
      "\u001b[1;31m---------------------------------------------------------------------------\u001b[0m",
      "\u001b[1;31mAttributeError\u001b[0m                            Traceback (most recent call last)",
      "\u001b[1;32m~\\AppData\\Local\\Temp/ipykernel_1136/3759319123.py\u001b[0m in \u001b[0;36m<module>\u001b[1;34m\u001b[0m\n\u001b[1;32m----> 1\u001b[1;33m \u001b[0mxxx\u001b[0m\u001b[1;33m[\u001b[0m\u001b[1;34m'Sport'\u001b[0m\u001b[1;33m]\u001b[0m\u001b[1;33m.\u001b[0m\u001b[0mappend\u001b[0m\u001b[1;33m(\u001b[0m\u001b[1;34m'Boxing'\u001b[0m\u001b[1;33m)\u001b[0m\u001b[1;33m\u001b[0m\u001b[1;33m\u001b[0m\u001b[0m\n\u001b[0m",
      "\u001b[1;31mAttributeError\u001b[0m: 'str' object has no attribute 'append'"
     ]
    }
   ],
   "source": []
  },
  {
   "cell_type": "code",
   "execution_count": null,
   "id": "361c8861",
   "metadata": {},
   "outputs": [],
   "source": []
  }
 ],
 "metadata": {
  "kernelspec": {
   "display_name": "Python 3 (ipykernel)",
   "language": "python",
   "name": "python3"
  },
  "language_info": {
   "codemirror_mode": {
    "name": "ipython",
    "version": 3
   },
   "file_extension": ".py",
   "mimetype": "text/x-python",
   "name": "python",
   "nbconvert_exporter": "python",
   "pygments_lexer": "ipython3",
   "version": "3.9.7"
  }
 },
 "nbformat": 4,
 "nbformat_minor": 5
}
